{
 "cells": [
  {
   "cell_type": "markdown",
   "id": "a07e6c78",
   "metadata": {},
   "source": [
    "### Zapier Natural Language Actions API\n",
    "Full docs here: https://nla.zapier.com/api/v1/dynamic/docs"
   ]
  },
  {
   "cell_type": "markdown",
   "id": "a994f3cd",
   "metadata": {},
   "source": [
    "### Using An Agent"
   ]
  },
  {
   "cell_type": "code",
   "execution_count": null,
   "id": "cc720bda",
   "metadata": {},
   "outputs": [],
   "source": [
    "from langchain.llms import OpenAI\n",
    "from langchain.agents import initialize_agent\n",
    "from langchain.agents.agent_toolkits import ZapierToolkit\n",
    "from langchain.utilities.zapier import ZapierNLAWrapper\n",
    "import os"
   ]
  },
  {
   "cell_type": "code",
   "execution_count": null,
   "id": "b572d4a7",
   "metadata": {
    "hide_input": false
   },
   "outputs": [],
   "source": [
    "os.environ[\"OPENAI_API_KEY\"] = '...'\n",
    "os.environ[\"ZAPIER_NLA_API_KEY\"] = '...'"
   ]
  },
  {
   "cell_type": "code",
   "execution_count": null,
   "id": "ded109ef",
   "metadata": {},
   "outputs": [],
   "source": [
    "llm = OpenAI(temperature=.3)\n",
    "zapier = ZapierNLAWrapper()\n",
    "toolkit = ZapierToolkit.from_zapier_nla_wrapper(zapier)\n",
    "agent = initialize_agent(toolkit.get_tools(), llm, agent=\"zero-shot-react-description\", verbose=True)"
   ]
  },
  {
   "cell_type": "code",
   "execution_count": null,
   "id": "5edadb8b",
   "metadata": {},
   "outputs": [],
   "source": [
    "for tool in toolkit.get_tools():\n",
    "    print (tool.name)\n",
    "    print (tool.description)\n",
    "    print (\"\\n\\n\")"
   ]
  },
  {
   "cell_type": "code",
   "execution_count": null,
   "id": "42dd7a75",
   "metadata": {},
   "outputs": [],
   "source": [
    "agent.run(\"\"\"Summarize the last email I received from greg at Data Independent.\n",
    "                Send the summary to the trending domains channel in slack.\"\"\")"
   ]
  },
  {
   "cell_type": "code",
   "execution_count": null,
   "id": "70222dec",
   "metadata": {},
   "outputs": [],
   "source": [
    "agent.run(\"Get the last email I received from greg at Data Independent. Summarize the reply and create a tweet\")"
   ]
  },
  {
   "cell_type": "code",
   "execution_count": null,
   "id": "f8809e78",
   "metadata": {},
   "outputs": [],
   "source": [
    "agent.run(\"\"\"Get the last email I received from greg at Data Independent.\n",
    "              Create a draft email in gmail back to Greg with a good positive reply\"\"\")"
   ]
  },
  {
   "cell_type": "code",
   "execution_count": null,
   "id": "60698fa2",
   "metadata": {},
   "outputs": [],
   "source": [
    "agent.run(\"\"\"Get the last email I received from greg at Data Independent.\n",
    "              Find a good gif that matches the intent of the email and send the gif to trending domains in slack\"\"\")"
   ]
  },
  {
   "cell_type": "code",
   "execution_count": null,
   "id": "1fd1ebc6",
   "metadata": {},
   "outputs": [],
   "source": [
    "agent.run(\"\"\"Create a tweet that says, 'langchain + zapier is great'. \\\n",
    "Draft an email in gmail to greg @ data independent sharing my tweet with a personalized message\"\"\")"
   ]
  },
  {
   "cell_type": "code",
   "execution_count": null,
   "id": "f25901a0",
   "metadata": {},
   "outputs": [],
   "source": []
  }
 ],
 "metadata": {
  "kernelspec": {
   "display_name": "Python 3 (ipykernel)",
   "language": "python",
   "name": "python3"
  },
  "language_info": {
   "codemirror_mode": {
    "name": "ipython",
    "version": 3
   },
   "file_extension": ".py",
   "mimetype": "text/x-python",
   "name": "python",
   "nbconvert_exporter": "python",
   "pygments_lexer": "ipython3",
   "version": "3.9.13"
  }
 },
 "nbformat": 4,
 "nbformat_minor": 5
}
